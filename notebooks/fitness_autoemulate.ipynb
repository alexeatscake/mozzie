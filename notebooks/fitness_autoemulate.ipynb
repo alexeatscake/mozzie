{
 "cells": [
  {
   "cell_type": "markdown",
   "id": "0",
   "metadata": {},
   "source": [
    "# Fitness AutoEmulate\n",
    "\n",
    "This is a simple study looking at the fitness and dispersal rate of a population of mosquitoes.\n",
    "It will see how the population changes over time and will try to model the overall effects.\n",
    "It does this by just looking at the total population and ignoring the local distribution of the population."
   ]
  },
  {
   "cell_type": "code",
   "execution_count": null,
   "id": "1",
   "metadata": {},
   "outputs": [],
   "source": [
    "import pandas as pd\n",
    "from autoemulate.compare import AutoEmulate\n",
    "from sklearn.decomposition import PCA\n",
    "\n",
    "from mozzie.data_prep import cast_back_data\n",
    "from mozzie.visualise import plot_total_data"
   ]
  },
  {
   "cell_type": "code",
   "execution_count": null,
   "id": "2",
   "metadata": {},
   "outputs": [],
   "source": [
    "X_data = pd.read_csv(\n",
    "    \"../data/generated/fitness_study/processed_total/X_train.csv\"\n",
    ").values\n",
    "y_data = pd.read_csv(\n",
    "    \"../data/generated/fitness_study/processed_total/y_train.csv\"\n",
    ").values\n",
    "\n",
    "X_test = pd.read_csv(\n",
    "    \"../data/generated/fitness_study/processed_total/X_test.csv\"\n",
    ").values\n",
    "y_test = pd.read_csv(\n",
    "    \"../data/generated/fitness_study/processed_total/y_test.csv\"\n",
    ").values"
   ]
  },
  {
   "cell_type": "code",
   "execution_count": null,
   "id": "3",
   "metadata": {},
   "outputs": [],
   "source": [
    "plot_total_data(cast_back_data(y_data[0]), title=\"Example of a single run of the model\")"
   ]
  },
  {
   "cell_type": "code",
   "execution_count": null,
   "id": "4",
   "metadata": {},
   "outputs": [],
   "source": [
    "em = AutoEmulate()\n",
    "em.setup(X_data, y_data, reduce_dim_output=True, dim_reducer=PCA(n_components=0.95))\n",
    "em.compare()\n"
   ]
  },
  {
   "cell_type": "code",
   "execution_count": null,
   "id": "5",
   "metadata": {},
   "outputs": [],
   "source": [
    "em.summarise_cv()\n"
   ]
  },
  {
   "cell_type": "markdown",
   "id": "6",
   "metadata": {},
   "source": [
    "## Making Predictions\n",
    "\n",
    "After fitting the AutoEmulate model, you can make predictions on the test data.\n"
   ]
  },
  {
   "cell_type": "code",
   "execution_count": null,
   "id": "7",
   "metadata": {},
   "outputs": [],
   "source": [
    "y_predict = em.best_model.predict(X_test)"
   ]
  },
  {
   "cell_type": "code",
   "execution_count": null,
   "id": "8",
   "metadata": {},
   "outputs": [],
   "source": [
    "plot_total_data(\n",
    "    cast_back_data(y_predict[2]),\n",
    "    title=\"Example of a single run of the emulator prediction\"\n",
    ")"
   ]
  },
  {
   "cell_type": "code",
   "execution_count": null,
   "id": "9",
   "metadata": {},
   "outputs": [],
   "source": [
    "plot_total_data(\n",
    "    cast_back_data(y_test[2]),\n",
    "    title=\"The actual data for the same run of the simulation\"\n",
    ")"
   ]
  },
  {
   "cell_type": "code",
   "execution_count": null,
   "id": "10",
   "metadata": {},
   "outputs": [],
   "source": []
  }
 ],
 "metadata": {
  "kernelspec": {
   "display_name": "mozzie",
   "language": "python",
   "name": "python3"
  },
  "language_info": {
   "codemirror_mode": {
    "name": "ipython",
    "version": 3
   },
   "file_extension": ".py",
   "mimetype": "text/x-python",
   "name": "python",
   "nbconvert_exporter": "python",
   "pygments_lexer": "ipython3",
   "version": "3.12.11"
  }
 },
 "nbformat": 4,
 "nbformat_minor": 5
}
