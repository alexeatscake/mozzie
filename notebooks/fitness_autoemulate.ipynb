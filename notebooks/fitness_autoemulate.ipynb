{
 "cells": [
  {
   "cell_type": "markdown",
   "id": "0",
   "metadata": {},
   "source": [
    "# Fitness AutoEmulate\n",
    "\n",
    "This is a simple study looking at the fitness and dispersal rate of a population of mosquitoes.\n",
    "It will see how the population changes over time and will try to model the overall effects.\n",
    "It does this by just looking at the total population and ignoring the local distribution of the population."
   ]
  },
  {
   "cell_type": "code",
   "execution_count": null,
   "id": "1",
   "metadata": {},
   "outputs": [],
   "source": [
    "import pandas as pd\n",
    "from autoemulate import AutoEmulate\n",
    "from autoemulate.transforms import PCATransform\n",
    "from torch import Tensor\n",
    "\n",
    "from mozzie.parsing import cast_back_data\n",
    "from mozzie.visualise import plot_total_data"
   ]
  },
  {
   "cell_type": "code",
   "execution_count": null,
   "id": "2",
   "metadata": {},
   "outputs": [],
   "source": [
    "AutoEmulate.list_emulators()"
   ]
  },
  {
   "cell_type": "code",
   "execution_count": null,
   "id": "3",
   "metadata": {},
   "outputs": [],
   "source": [
    "X_data = pd.read_csv(\n",
    "    \"../data/generated/fitness_study/processed_total/X_train.csv\"\n",
    ").values\n",
    "y_data = pd.read_csv(\n",
    "    \"../data/generated/fitness_study/processed_total/y_train.csv\"\n",
    ").values\n",
    "\n",
    "X_test = pd.read_csv(\n",
    "    \"../data/generated/fitness_study/processed_total/X_test.csv\"\n",
    ").values\n",
    "y_test = pd.read_csv(\n",
    "    \"../data/generated/fitness_study/processed_total/y_test.csv\"\n",
    ").values"
   ]
  },
  {
   "cell_type": "code",
   "execution_count": null,
   "id": "4",
   "metadata": {},
   "outputs": [],
   "source": [
    "plot_total_data(cast_back_data(y_data[0]), title=\"Example of a single run of the model\")"
   ]
  },
  {
   "cell_type": "code",
   "execution_count": null,
   "id": "5",
   "metadata": {},
   "outputs": [],
   "source": [
    "em = AutoEmulate(X_data, y_data, y_transforms_list=[[PCATransform(n_components=10)]])\n",
    "em.compare()\n"
   ]
  },
  {
   "cell_type": "code",
   "execution_count": null,
   "id": "6",
   "metadata": {},
   "outputs": [],
   "source": [
    "em.summarise()\n"
   ]
  },
  {
   "cell_type": "markdown",
   "id": "7",
   "metadata": {},
   "source": [
    "## Making Predictions\n",
    "\n",
    "After fitting the AutoEmulate model, you can make predictions on the test data.\n"
   ]
  },
  {
   "cell_type": "code",
   "execution_count": null,
   "id": "8",
   "metadata": {},
   "outputs": [],
   "source": [
    "best = em.best_result()\n",
    "\n",
    "y_predict = best.model.predict(Tensor(X_test)).mean"
   ]
  },
  {
   "cell_type": "code",
   "execution_count": null,
   "id": "9",
   "metadata": {},
   "outputs": [],
   "source": [
    "plot_total_data(\n",
    "    cast_back_data(y_predict[4]),\n",
    "    title=\"Example of a single run of the emulator prediction\"\n",
    ")"
   ]
  },
  {
   "cell_type": "code",
   "execution_count": null,
   "id": "10",
   "metadata": {},
   "outputs": [],
   "source": [
    "plot_total_data(\n",
    "    cast_back_data(y_test[4]),\n",
    "    title=\"The actual data for the same run of the simulation\"\n",
    ")"
   ]
  },
  {
   "cell_type": "code",
   "execution_count": null,
   "id": "11",
   "metadata": {},
   "outputs": [],
   "source": []
  }
 ],
 "metadata": {
  "kernelspec": {
   "display_name": "mozzie",
   "language": "python",
   "name": "python3"
  },
  "language_info": {
   "codemirror_mode": {
    "name": "ipython",
    "version": 3
   },
   "file_extension": ".py",
   "mimetype": "text/x-python",
   "name": "python",
   "nbconvert_exporter": "python",
   "pygments_lexer": "ipython3",
   "version": "3.12.11"
  }
 },
 "nbformat": 4,
 "nbformat_minor": 5
}
